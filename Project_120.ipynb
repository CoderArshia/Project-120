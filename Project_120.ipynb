{
  "nbformat": 4,
  "nbformat_minor": 0,
  "metadata": {
    "colab": {
      "name": "Project 120",
      "provenance": [],
      "collapsed_sections": [],
      "authorship_tag": "ABX9TyOfeH616Z81yPaxqm6DND//",
      "include_colab_link": true
    },
    "kernelspec": {
      "name": "python3",
      "display_name": "Python 3"
    },
    "language_info": {
      "name": "python"
    }
  },
  "cells": [
    {
      "cell_type": "markdown",
      "metadata": {
        "id": "view-in-github",
        "colab_type": "text"
      },
      "source": [
        "<a href=\"https://colab.research.google.com/github/CoderArshia/Project-120/blob/main/Project_120.ipynb\" target=\"_parent\"><img src=\"https://colab.research.google.com/assets/colab-badge.svg\" alt=\"Open In Colab\"/></a>"
      ]
    },
    {
      "cell_type": "code",
      "metadata": {
        "id": "EwKr0N7roKz-"
      },
      "source": [
        "from sklearn import datasets\n",
        "wine = datasets.load_wine()\n"
      ],
      "execution_count": 1,
      "outputs": []
    },
    {
      "cell_type": "code",
      "metadata": {
        "colab": {
          "base_uri": "https://localhost:8080/"
        },
        "id": "_Cbx-6x4vMzH",
        "outputId": "76fa3fff-4c2b-491d-e369-33d9d21291fa"
      },
      "source": [
        "print(\"features\",wine.feature_names)"
      ],
      "execution_count": 2,
      "outputs": [
        {
          "output_type": "stream",
          "text": [
            "features ['alcohol', 'malic_acid', 'ash', 'alcalinity_of_ash', 'magnesium', 'total_phenols', 'flavanoids', 'nonflavanoid_phenols', 'proanthocyanins', 'color_intensity', 'hue', 'od280/od315_of_diluted_wines', 'proline']\n"
          ],
          "name": "stdout"
        }
      ]
    },
    {
      "cell_type": "code",
      "metadata": {
        "colab": {
          "base_uri": "https://localhost:8080/"
        },
        "id": "86Gfbg3yvMN2",
        "outputId": "7e8534bf-6c45-4d49-8295-7f05fc4480be"
      },
      "source": [
        "print(\"labels\",wine.target_names)"
      ],
      "execution_count": 3,
      "outputs": [
        {
          "output_type": "stream",
          "text": [
            "labels ['class_0' 'class_1' 'class_2']\n"
          ],
          "name": "stdout"
        }
      ]
    },
    {
      "cell_type": "code",
      "metadata": {
        "id": "DaHWRPO2o6x2"
      },
      "source": [
        "from sklearn.model_selection import train_test_split\n",
        "\n",
        "X = wine.data\n",
        "y = wine.target\n",
        "\n",
        "x_train,x_test,y_train,y_test=train_test_split(X,y,test_size=0.25,random_state=105)"
      ],
      "execution_count": 29,
      "outputs": []
    },
    {
      "cell_type": "code",
      "metadata": {
        "colab": {
          "base_uri": "https://localhost:8080/"
        },
        "id": "KZZDZ3yvpPGd",
        "outputId": "be87fe2a-6345-44e7-aa77-0a8b5d92284d"
      },
      "source": [
        "from sklearn.naive_bayes import GaussianNB\n",
        "from sklearn.metrics import accuracy_score\n",
        "\n",
        "model = GaussianNB()\n",
        "model.fit(x_train,y_train)\n",
        "y_pred = model.predict(x_test)\n",
        "\n",
        "accuracy=accuracy_score(y_test,y_pred)\n",
        "print(accuracy*100)\n",
        "\n"
      ],
      "execution_count": 30,
      "outputs": [
        {
          "output_type": "stream",
          "text": [
            "97.77777777777777\n"
          ],
          "name": "stdout"
        }
      ]
    },
    {
      "cell_type": "code",
      "metadata": {
        "id": "siFoirOgtD0N"
      },
      "source": [
        "from sklearn.model_selection import train_test_split\n",
        "\n",
        "X = wine.data\n",
        "y = wine.target\n",
        "\n",
        "x_train1,x_test1,y_train1,y_test1=train_test_split(X,y,test_size=0.25,random_state=105)"
      ],
      "execution_count": 31,
      "outputs": []
    },
    {
      "cell_type": "code",
      "metadata": {
        "colab": {
          "base_uri": "https://localhost:8080/"
        },
        "id": "rA_E2oKar37c",
        "outputId": "6d5fe0c3-d578-4d5a-c15c-a9718bfcf1ff"
      },
      "source": [
        "from sklearn.linear_model import LogisticRegression\n",
        "from sklearn.metrics import accuracy_score\n",
        "from sklearn.preprocessing import StandardScaler\n",
        "\n",
        "sc=StandardScaler()\n",
        "\n",
        "x_train1 = sc.fit_transform (x_train1)\n",
        "x_test1 = sc.fit_transform (x_test1)\n",
        "\n",
        "model1 = LogisticRegression(random_state=0)\n",
        "model1.fit(x_train1,y_train1)\n",
        "y_pred1 = model1.predict(x_test1)\n",
        "\n",
        "accuracy=accuracy_score(y_test1,y_pred1)\n",
        "print(accuracy*100)"
      ],
      "execution_count": 32,
      "outputs": [
        {
          "output_type": "stream",
          "text": [
            "97.77777777777777\n"
          ],
          "name": "stdout"
        }
      ]
    }
  ]
}